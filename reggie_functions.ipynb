{
 "cells": [
  {
   "cell_type": "markdown",
   "metadata": {},
   "source": [
    "# OpenAI Assistant Functions\n",
    "#### The purpose of this notebook is to store the code required to build assistants, threads, and the basis for communicating with them"
   ]
  },
  {
   "cell_type": "code",
   "execution_count": 1,
   "metadata": {},
   "outputs": [],
   "source": [
    "# import statement and loading environment variables\n",
    "import os\n",
    "import pathlib\n",
    "from google.cloud import storage \n",
    "import json\n",
    "from dotenv import load_dotenv\n",
    "import openai\n",
    "\n",
    "load_dotenv()\n",
    "openai.api_key = os.getenv(\"OPENAI_API_KEY\")\n",
    "client = openai.Client()"
   ]
  },
  {
   "cell_type": "markdown",
   "metadata": {},
   "source": [
    "### Create new Assistant and corresponding Thread"
   ]
  },
  {
   "cell_type": "code",
   "execution_count": 3,
   "metadata": {},
   "outputs": [
    {
     "name": "stdout",
     "output_type": "stream",
     "text": [
      "Assistant ID: asst_ftO8z80b5GznHsyYNxtnZYuf\n",
      "Thread ID: thread_9KDuNzSuhvBpt5PCLbONasf2\n"
     ]
    }
   ],
   "source": [
    "# Create new assistant and thread\n",
    "import os\n",
    "import pathlib\n",
    "from google.cloud import storage \n",
    "import json\n",
    "from dotenv import load_dotenv\n",
    "import openai\n",
    "\n",
    "load_dotenv()\n",
    "openai.api_key = os.getenv(\"OPENAI_API_KEY\")\n",
    "client = openai.Client()\n",
    "\n",
    "\n",
    "def create_assistant(instructions, name, model, tools):\n",
    "    my_assistant = openai.beta.assistants.create(\n",
    "        instructions=instructions,\n",
    "        name=name,\n",
    "        model=model,\n",
    "        tools=tools\n",
    "    )\n",
    "\n",
    "    thread = client.beta.threads.create()\n",
    "\n",
    "    # Extracting the IDs and converting them to strings\n",
    "    assistant_id = str(my_assistant.id)\n",
    "    thread_id = str(thread.id)\n",
    "\n",
    "    return assistant_id, thread_id\n",
    "\n",
    "name = \"Wilke\"\n",
    "model = \"gpt-4\"\n",
    "tools = [{\"type\": \"code_interpreter\"}]\n",
    "instructions = \"\"\"\n",
    "Create a function that takes a list of numbers and returns the sum of the list.\n",
    "\"\"\"\n",
    "\n",
    "assistant_id, thread_id = create_assistant(instructions, name, model, tools)\n",
    "\n",
    "print(\"Assistant ID:\", assistant_id)\n",
    "print(\"Thread ID:\", thread_id)\n"
   ]
  },
  {
   "cell_type": "code",
   "execution_count": null,
   "metadata": {},
   "outputs": [],
   "source": []
  },
  {
   "cell_type": "markdown",
   "metadata": {},
   "source": [
    "### Create Standalone Thread"
   ]
  },
  {
   "cell_type": "code",
   "execution_count": 3,
   "metadata": {},
   "outputs": [
    {
     "name": "stdout",
     "output_type": "stream",
     "text": [
      "New Thread ID: thread_0xv4erIG7utTkd4dFtgHZRZN\n"
     ]
    }
   ],
   "source": [
    "new_thread = client.beta.threads.create()\n",
    "print(\"New Thread ID:\", new_thread.id)"
   ]
  },
  {
   "cell_type": "markdown",
   "metadata": {},
   "source": [
    "### Send Message to the assistant"
   ]
  },
  {
   "cell_type": "code",
   "execution_count": 6,
   "metadata": {},
   "outputs": [
    {
     "name": "stdout",
     "output_type": "stream",
     "text": [
      "Assistant's response: The square root of 15333344 is approximately 3915.78.\n"
     ]
    }
   ],
   "source": [
    "import os\n",
    "from dotenv import load_dotenv\n",
    "import openai\n",
    "from openai import OpenAI\n",
    "import time\n",
    "\n",
    "\n",
    "load_dotenv()\n",
    "openai.api_key = os.getenv(\"OPENAI_API_KEY\")\n",
    "client = openai.Client()\n",
    "\n",
    "\n",
    "\n",
    "def send_message_to_assistant(thread_id, assistant_id, message, wait_time=5):\n",
    "    # Send the message to the specified thread\n",
    "    client.beta.threads.messages.create(\n",
    "        thread_id=thread_id,\n",
    "        role=\"user\",\n",
    "        content=message\n",
    "    )\n",
    "\n",
    "    # Create a run for the assistant to process the message\n",
    "    run = client.beta.threads.runs.create(\n",
    "        thread_id=thread_id,\n",
    "        assistant_id=assistant_id\n",
    "    )\n",
    "\n",
    "    # Wait for a short period to allow the assistant to respond\n",
    "    time.sleep(wait_time)\n",
    "\n",
    "    # Retrieve the messages after the wait time\n",
    "    messages = client.beta.threads.messages.list(thread_id)\n",
    "\n",
    "    # Find the latest assistant's response in the thread\n",
    "    for msg in reversed(messages.data):\n",
    "        if msg.role == 'assistant':\n",
    "            return msg.content[0].text.value\n",
    "\n",
    "    return \"No response from the assistant.\"\n",
    "\n",
    "# Example usage\n",
    "message = \"Hello, Assistant! What is the square root of 1533332244?\"\n",
    "\n",
    "response = send_message_to_assistant(thread_id, assistant_id, message)\n",
    "print(\"Assistant's response:\", response)\n"
   ]
  },
  {
   "cell_type": "markdown",
   "metadata": {},
   "source": [
    "### List all the messages from a thread"
   ]
  },
  {
   "cell_type": "code",
   "execution_count": null,
   "metadata": {},
   "outputs": [],
   "source": []
  },
  {
   "cell_type": "code",
   "execution_count": 8,
   "metadata": {},
   "outputs": [
    {
     "name": "stdout",
     "output_type": "stream",
     "text": [
      "Message ID: msg_2Lqop8sp2KRqEeBSBhtO952E\n",
      "Role: assistant\n",
      "Content: [MessageContentText(text=Text(annotations=[], value=\"Yes, I'm here and ready to assist you. What can I help you with?\"), type='text')]\n",
      "Created At: 1702493321\n",
      "-------------------------\n",
      "Message ID: msg_l1HwXHtMTsckgOC34n8pWv92\n",
      "Role: user\n",
      "Content: [MessageContentText(text=Text(annotations=[], value='Working yet?'), type='text')]\n",
      "Created At: 1702493320\n",
      "-------------------------\n",
      "Message ID: msg_xyjxHKUremCWSYeO1rQdiBF4\n",
      "Role: assistant\n",
      "Content: [MessageContentText(text=Text(annotations=[], value='Hello! How can I assist you today?'), type='text')]\n",
      "Created At: 1702493063\n",
      "-------------------------\n",
      "Message ID: msg_jznVROvYuDAleTtHMXTrMzlj\n",
      "Role: user\n",
      "Content: [MessageContentText(text=Text(annotations=[], value='Hey'), type='text')]\n",
      "Created At: 1702493061\n",
      "-------------------------\n",
      "Message ID: msg_xJsm8s7iu5M2s8q3GTHUzA7L\n",
      "Role: assistant\n",
      "Content: [MessageContentText(text=Text(annotations=[], value='I\\'m here to help answer your questions or assist with tasks you need to get done. It would be most helpful if you could specify what you are referring to when you ask \"where is this going\". Do you need help with programming, math problems, general knowledge, or something else? Please let me know!'), type='text')]\n",
      "Created At: 1702492614\n",
      "-------------------------\n",
      "Message ID: msg_o9RuqHbpJg71Rfy4jqvGOC0M\n",
      "Role: user\n",
      "Content: [MessageContentText(text=Text(annotations=[], value='Where is this going?'), type='text')]\n",
      "Created At: 1702492613\n",
      "-------------------------\n",
      "Message ID: msg_doGNleiqCjb3YQMFIRNHHUus\n",
      "Role: assistant\n",
      "Content: [MessageContentText(text=Text(annotations=[], value='Hello! How can I assist you today?'), type='text')]\n",
      "Created At: 1702492462\n",
      "-------------------------\n",
      "Message ID: msg_rUpRkTwCBYgzxu8ffiJRNeIv\n",
      "Role: user\n",
      "Content: [MessageContentText(text=Text(annotations=[], value='Howdy!'), type='text')]\n",
      "Created At: 1702492460\n",
      "-------------------------\n",
      "Message ID: msg_8Y5ZZVSYBum8rE3fR4L9k5wk\n",
      "Role: assistant\n",
      "Content: [MessageContentText(text=Text(annotations=[], value='The square root of 1533332244 is approximately 39157.79.'), type='text')]\n",
      "Created At: 1702487671\n",
      "-------------------------\n",
      "Message ID: msg_ejdkZmw9R6gOurFgOizNJxgC\n",
      "Role: user\n",
      "Content: [MessageContentText(text=Text(annotations=[], value='Hello, Assistant! What is the square root of 1533332244?'), type='text')]\n",
      "Created At: 1702487666\n",
      "-------------------------\n",
      "Message ID: msg_QKeY6ixjYtOSjXkCo4dexav4\n",
      "Role: assistant\n",
      "Content: [MessageContentText(text=Text(annotations=[], value='The square root of 15333344 is approximately 3915.78.'), type='text')]\n",
      "Created At: 1702487645\n",
      "-------------------------\n",
      "Message ID: msg_fqWQMp7dUHl34Yu118M2jjQ4\n",
      "Role: user\n",
      "Content: [MessageContentText(text=Text(annotations=[], value='Hello, Assistant! What is the square root of 15333344?'), type='text')]\n",
      "Created At: 1702487638\n",
      "-------------------------\n"
     ]
    }
   ],
   "source": [
    "import os\n",
    "from dotenv import load_dotenv\n",
    "import openai\n",
    "\n",
    "load_dotenv()\n",
    "openai.api_key = os.getenv(\"OPENAI_API_KEY\")\n",
    "client = openai.Client()\n",
    "\n",
    "\n",
    "def print_all_messages_in_thread(thread_id):\n",
    "    # Retrieve the list of messages in the thread\n",
    "    response_messages = client.beta.threads.messages.list(thread_id)\n",
    "\n",
    "    # Iterate through the messages and print them\n",
    "    for msg in response_messages:\n",
    "        print(\"Message ID:\", msg.id)\n",
    "        print(\"Role:\", msg.role)\n",
    "        print(\"Content:\", msg.content)\n",
    "        print(\"Created At:\", msg.created_at)\n",
    "        print(\"-------------------------\")\n",
    "\n",
    "# # Example usage\n",
    "thread_id = \"thread_9KDuNzSuhvBpt5PCLbONasf2\"\n",
    "print_all_messages_in_thread(thread_id)\n"
   ]
  },
  {
   "cell_type": "code",
   "execution_count": null,
   "metadata": {},
   "outputs": [],
   "source": []
  }
 ],
 "metadata": {
  "kernelspec": {
   "display_name": "pdsai_env",
   "language": "python",
   "name": "python3"
  },
  "language_info": {
   "codemirror_mode": {
    "name": "ipython",
    "version": 3
   },
   "file_extension": ".py",
   "mimetype": "text/x-python",
   "name": "python",
   "nbconvert_exporter": "python",
   "pygments_lexer": "ipython3",
   "version": "3.8.18"
  },
  "orig_nbformat": 4
 },
 "nbformat": 4,
 "nbformat_minor": 2
}
