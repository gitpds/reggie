{
 "cells": [
  {
   "cell_type": "code",
   "execution_count": null,
   "metadata": {},
   "outputs": [],
   "source": [
    "# Go to GCP IAM\n",
    "\n",
    "# Create Role\n",
    "# Title, ID, and Role Launch Stage - GA\n",
    "\n",
    "# Add Permissions\n",
    "\n",
    "# I think each role should serve a specific purpose, and the service accounts are granted the roles\n",
    "\n",
    "# To use the role, you need to create a service account and grant it the role\n",
    "# To update an existing service account, you need to grant it the role through the IAM page\n"
   ]
  },
  {
   "cell_type": "code",
   "execution_count": null,
   "metadata": {},
   "outputs": [],
   "source": []
  }
 ],
 "metadata": {
  "language_info": {
   "name": "python"
  },
  "orig_nbformat": 4
 },
 "nbformat": 4,
 "nbformat_minor": 2
}
